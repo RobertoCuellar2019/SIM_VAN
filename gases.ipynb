{
 "cells": [
  {
   "cell_type": "markdown",
   "metadata": {},
   "source": [
    "REVISIÓN BREVE DE ALGUNOS MODELOS DE ESTADOS TERMODINÁMICOS "
   ]
  },
  {
   "cell_type": "markdown",
   "metadata": {},
   "source": []
  },
  {
   "cell_type": "code",
   "execution_count": 2,
   "metadata": {},
   "outputs": [],
   "source": [
    "import numpy as np\n",
    "import bqplot.pyplot as plt\n",
    "from bqplot import *"
   ]
  },
  {
   "cell_type": "code",
   "execution_count": 30,
   "metadata": {},
   "outputs": [
    {
     "data": {
      "application/vnd.jupyter.widget-view+json": {
       "model_id": "80991b00f09443d998889335d4545a8f",
       "version_major": 2,
       "version_minor": 0
      },
      "text/plain": [
       "Figure(axes=[Axis(scale=LinearScale()), Axis(orientation='vertical', scale=LinearScale())], background_style={…"
      ]
     },
     "metadata": {},
     "output_type": "display_data"
    }
   ],
   "source": [
    "fig = plt.figure(title = 'Presión vs Volumen (T constante)', background_style ={'fill': 'ligthgray'})\n",
    "R = 8.3143e3\n",
    "n = 500\n",
    "v = np.linspace(1,100,1000)\n",
    "T = 100\n",
    "p = (1/v)*n*R*T \n",
    "plt.plot(v,p)\n",
    "fig"
   ]
  },
  {
   "cell_type": "code",
   "execution_count": 31,
   "metadata": {},
   "outputs": [
    {
     "data": {
      "application/vnd.jupyter.widget-view+json": {
       "model_id": "f73bedea7ba642e5a415ce0a337f28a9",
       "version_major": 2,
       "version_minor": 0
      },
      "text/plain": [
       "Figure(animation_duration=1000, axes=[Axis(label='Volumen [m^3]', scale=LinearScale()), Axis(label='Presión P …"
      ]
     },
     "metadata": {},
     "output_type": "display_data"
    }
   ],
   "source": [
    "axes_options = {'x': {'label': 'Volumen [m^3]'}, 'y': {'label': 'Presión P [Pa]'}}\n",
    "R = 8.3143e3\n",
    "n = 500\n",
    "v = np.linspace(1,100,1000)\n",
    "T = 100\n",
    "p = (1/v)*n*R*T \n",
    "\n",
    "fig = plt.figure(animation_duration=1000)\n",
    "lin2 = plt.plot(x=v, y=p, colors=['blue'], axes_options=axes_options)\n",
    "lines = plt.plot(x=v, y=p, colors=['red'], axes_options=axes_options)\n",
    "fig"
   ]
  },
  {
   "cell_type": "code",
   "execution_count": 32,
   "metadata": {},
   "outputs": [],
   "source": [
    "# se actualiza la linea \n",
    "T = 50\n",
    "lines.y = p = (1/v)*n*R*T #two random walks\n"
   ]
  },
  {
   "cell_type": "code",
   "execution_count": null,
   "metadata": {},
   "outputs": [],
   "source": []
  }
 ],
 "metadata": {
  "kernelspec": {
   "display_name": "Python 3",
   "language": "python",
   "name": "python3"
  },
  "language_info": {
   "codemirror_mode": {
    "name": "ipython",
    "version": 3
   },
   "file_extension": ".py",
   "mimetype": "text/x-python",
   "name": "python",
   "nbconvert_exporter": "python",
   "pygments_lexer": "ipython3",
   "version": "3.7.3"
  }
 },
 "nbformat": 4,
 "nbformat_minor": 2
}
